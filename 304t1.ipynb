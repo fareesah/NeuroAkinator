{
 "cells": [
  {
   "cell_type": "code",
   "execution_count": 3,
   "id": "53e372b3-9b84-4211-a55c-a9e2fac164ab",
   "metadata": {},
   "outputs": [
    {
     "name": "stdin",
     "output_type": "stream",
     "text": [
      "Are you using DEAD or LIVE tissue?  DEAD\n"
     ]
    },
    {
     "name": "stdout",
     "output_type": "stream",
     "text": [
      ".\n",
      "..\n",
      "...\n",
      "Do you prefer the second set of options?\n"
     ]
    },
    {
     "name": "stdin",
     "output_type": "stream",
     "text": [
      "Y / N:  N\n"
     ]
    },
    {
     "name": "stdout",
     "output_type": "stream",
     "text": [
      "Second set chosen: GOLGI STAIN, DYE FILLING NEURONS\n",
      "Proceed to third set of options?\n"
     ]
    },
    {
     "name": "stdin",
     "output_type": "stream",
     "text": [
      "Y / N:  Y\n"
     ]
    },
    {
     "name": "stdout",
     "output_type": "stream",
     "text": [
      "Third set chosen: GOLGI STAIN\n",
      ".\n",
      "..\n",
      "...\n",
      "Your choice is: GOLGI STAIN\n",
      "Was this answer correct?\n"
     ]
    },
    {
     "name": "stdin",
     "output_type": "stream",
     "text": [
      "Y / N:  Y\n"
     ]
    },
    {
     "name": "stdout",
     "output_type": "stream",
     "text": [
      "That means my code works properly :)\n"
     ]
    }
   ],
   "source": [
    "import random\n",
    "import time\n",
    "\n",
    "firstq = {\n",
    "    'DEAD': ['GOLGI STAIN', 'DYE FILLING NEURONS', 'IMMUNOHISTOCHEMISTRY'],\n",
    "    'LIVE': ['GENETICALLY-ENCODED FLUORESCENT PROTEINS', 'EXPRESSING FPS WITH VIRUSES'],\n",
    "}\n",
    "\n",
    "SECONDQ1 = {\n",
    "    'Y': ['EXPRESSING FPS WITH VIRUSES'], \n",
    "    'N': ['GENETICALLY-ENCODED FLUORESCENT PROTEINS'],\n",
    "}\n",
    "\n",
    "SECONDQ2 = {\n",
    "    'Y': ['IMMUNOHISTOCHEMISTRY'],\n",
    "    'N': ['GOLGI STAIN', 'DYE FILLING NEURONS'],\n",
    "}\n",
    "\n",
    "THIRDQ = {\n",
    "    'Y' : ['GOLGI STAIN'],\n",
    "    'N' : ['DYE FILLING NEURONS'],\n",
    "}\n",
    "\n",
    "def loading(dot_count=3):\n",
    "    for dot in range(dot_count):\n",
    "        time.sleep(1)\n",
    "        print('.' * (dot + 1))\n",
    "\n",
    "def boolean_answer(prompt, positive_answer, negative_answer):\n",
    "    print(prompt)\n",
    "    answer = input('Y / N: ')[:1].upper()\n",
    "    if answer == 'Y':\n",
    "        print(positive_answer)\n",
    "        return 'Y'\n",
    "    else:\n",
    "        print(negative_answer)\n",
    "        return 'N'\n",
    "\n",
    "def get_answer(choices):\n",
    "    loading()\n",
    "    return random.choice(choices)\n",
    "\n",
    "def get_firstq(answerf):\n",
    "    loading()\n",
    "    if answerf == 'DEAD':\n",
    "        secondq = SECONDQ2\n",
    "    elif answerf == 'LIVE':\n",
    "        secondq = SECONDQ1\n",
    "    else:\n",
    "        return None\n",
    "    \n",
    "    secondq_answer = boolean_answer(\n",
    "        'Do you prefer the second set of options?',\n",
    "        'Second set chosen: ' + ', '.join(secondq['Y']),\n",
    "        'Second set chosen: ' + ', '.join(secondq['N'])\n",
    "    )\n",
    "    \n",
    "    if answerf == 'DEAD' and secondq_answer == 'N':\n",
    "        thirdq_answer = boolean_answer(\n",
    "            'Proceed to third set of options?',\n",
    "            'Third set chosen: ' + ', '.join(THIRDQ['Y']),\n",
    "            'Third set chosen: ' + ', '.join(THIRDQ['N'])\n",
    "        )\n",
    "        return get_answer(THIRDQ[thirdq_answer])\n",
    "    else:\n",
    "        return get_answer(secondq[secondq_answer])\n",
    "\n",
    "def main():\n",
    "    while True:\n",
    "        answerf = input('Are you using DEAD or LIVE tissue? ').upper()\n",
    "        firstq_answer = get_firstq(answerf)\n",
    "\n",
    "        if firstq_answer is None:\n",
    "            print(\"I don't understand that...\")\n",
    "        else:\n",
    "            print(f\"Your choice is: {firstq_answer}\")\n",
    "\n",
    "        if boolean_answer(\"Was this answer correct?\",\n",
    "                          \"That means my code works properly :)\",\n",
    "                          \"Let me have another try?\") == 'Y':\n",
    "            break\n",
    "\n",
    "main()\n"
   ]
  },
  {
   "cell_type": "code",
   "execution_count": null,
   "id": "5574306c-f5c9-4cf7-adee-0efee6f49ce9",
   "metadata": {},
   "outputs": [],
   "source": []
  }
 ],
 "metadata": {
  "kernelspec": {
   "display_name": "Python 3 (ipykernel)",
   "language": "python",
   "name": "python3"
  },
  "language_info": {
   "codemirror_mode": {
    "name": "ipython",
    "version": 3
   },
   "file_extension": ".py",
   "mimetype": "text/x-python",
   "name": "python",
   "nbconvert_exporter": "python",
   "pygments_lexer": "ipython3",
   "version": "3.11.6"
  }
 },
 "nbformat": 4,
 "nbformat_minor": 5
}
